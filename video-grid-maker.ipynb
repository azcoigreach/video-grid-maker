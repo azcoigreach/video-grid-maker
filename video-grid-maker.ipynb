{
 "cells": [
  {
   "cell_type": "markdown",
   "metadata": {},
   "source": [
    "Proceedurally create video test patterns and grids for LED and projected video projects"
   ]
  },
  {
   "cell_type": "code",
   "execution_count": 1,
   "metadata": {},
   "outputs": [],
   "source": [
    "from PIL import Image, ImageDraw"
   ]
  },
  {
   "cell_type": "code",
   "execution_count": 34,
   "metadata": {},
   "outputs": [],
   "source": [
    "# Environment variables\n",
    "width = 1920\n",
    "height = 1080\n",
    "background_color = (0, 0, 0, 255)\n",
    "border_color = (0, 255, 0, 255)\n",
    "grid_color = (255, 255, 255, 255)\n",
    "grid_px_size = 48\n",
    "\n",
    "# Initiate canvas\n",
    "image = Image.new('RGBA', size=(width, height), color=background_color)"
   ]
  },
  {
   "cell_type": "code",
   "execution_count": 36,
   "metadata": {},
   "outputs": [
    {
     "name": "stdout",
     "output_type": "stream",
     "text": [
      "Saving grid-1920-1080-48.png\n"
     ]
    }
   ],
   "source": [
    "# Draw a grid\n",
    "draw = ImageDraw.Draw(image)\n",
    "\n",
    "# Draw grid on x-axis\n",
    "y_start = 0\n",
    "y_end = image.height\n",
    "\n",
    "\n",
    "for x in range(0, image.width, grid_px_size):\n",
    "    line = ((x, y_start), (x, y_end))\n",
    "    draw.line(line, grid_color)\n",
    "\n",
    "# Draw grid on y-axis\n",
    "x_start = 0\n",
    "x_end = image.width\n",
    "\n",
    "for y in range(0, image.height, grid_px_size):\n",
    "    line = ((x_start, y), (x_end, y))\n",
    "    draw.line(line, grid_color)\n",
    "\n",
    "# Draw border\n",
    "line_top = ((x_start, y_start), (x_end, y_start))\n",
    "line_right = ((x_end -1, y_start), (x_end - 1, y_end))\n",
    "line_bottom = ((x_start, y_end - 1), (x_end, y_end - 1))\n",
    "line_left = ((x_start, y_start), (x_start, y_end))\n",
    "\n",
    "draw.line(line_top, border_color)\n",
    "draw.line(line_right, border_color)\n",
    "draw.line(line_bottom, border_color)\n",
    "draw.line(line_left, border_color)\n",
    "\n",
    "del draw\n",
    "\n",
    "filename = \"grid-{}-{}-{}.png\".format(width, height, grid_px_size)\n",
    "print(\"Saving {}\".format(filename))\n",
    "image.save(filename)"
   ]
  }
 ],
 "metadata": {
  "kernelspec": {
   "display_name": "Python 3.10.5 ('venv': venv)",
   "language": "python",
   "name": "python3"
  },
  "language_info": {
   "codemirror_mode": {
    "name": "ipython",
    "version": 3
   },
   "file_extension": ".py",
   "mimetype": "text/x-python",
   "name": "python",
   "nbconvert_exporter": "python",
   "pygments_lexer": "ipython3",
   "version": "3.10.5"
  },
  "orig_nbformat": 4,
  "vscode": {
   "interpreter": {
    "hash": "6fda4479dc0a5ed3383787f7da67f7a14f07f12b25b80f5a7487759df652561d"
   }
  }
 },
 "nbformat": 4,
 "nbformat_minor": 2
}
