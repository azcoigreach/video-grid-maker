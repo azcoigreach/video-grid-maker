{
 "cells": [
  {
   "cell_type": "markdown",
   "metadata": {},
   "source": [
    "Proceedurally create video test patterns for LED boards using Pillow"
   ]
  },
  {
   "cell_type": "code",
   "execution_count": 270,
   "metadata": {},
   "outputs": [],
   "source": [
    "from PIL import Image, ImageDraw, ImageFont"
   ]
  },
  {
   "cell_type": "code",
   "execution_count": 271,
   "metadata": {},
   "outputs": [],
   "source": [
    "# Environment variables\n",
    "width = 1280\n",
    "height = 720\n",
    "background_color = (0, 0, 0, 255) # RGBA\n",
    "border_color = (0, 255, 0, 255)\n",
    "border_line_width = 1\n",
    "grid_color = (255, 255, 255, 255)\n",
    "grid_width = 32\n",
    "grid_height = 32\n",
    "grid_line_width = 2\n",
    "diagnol_color = (255, 72, 26, 255)\n",
    "diagnol_line_width = 2\n",
    "circle_color = (255, 255, 26, 255)\n",
    "circle_line_width = 2\n",
    "font_size = 48\n",
    "font_color = (255, 255, 255, 255)\n",
    "font_path = './fonts/Roboto-Regular.ttf'\n",
    "text = 'Hello World'\n",
    "logo_filename = './images/SeekPng.com_placeholder-png_3500407.png'\n",
    "logo_width = 256\n",
    "logo_height = 128\n",
    "draw_grid = False\n",
    "draw_border = True\n",
    "draw_circle = False\n",
    "draw_text = True\n",
    "draw_diagnol = False\n",
    "draw_smpte_color_bar = True\n",
    "draw_logo = True\n",
    "\n",
    "# Initiate image\n",
    "image = Image.new('RGBA', size=(width, height), color=background_color)"
   ]
  },
  {
   "cell_type": "code",
   "execution_count": 272,
   "metadata": {},
   "outputs": [],
   "source": [
    "# Draw grid on the image using the grid color and grid line width \n",
    "# Do not draw over the border\n",
    "if draw_grid:\n",
    "    draw = ImageDraw.Draw(image)\n",
    "    for x in range(0, width, grid_width):\n",
    "        draw.line((x, 0, x, height), fill=grid_color, width=grid_line_width)\n",
    "    for y in range(0, height, grid_height):\n",
    "        draw.line((0, y, width, y), fill=grid_color, width=grid_line_width)\n",
    "    del draw"
   ]
  },
  {
   "cell_type": "code",
   "execution_count": 273,
   "metadata": {},
   "outputs": [],
   "source": [
    "\n",
    "# Draw a diagnol on the image using the diagnol color and diagnol line width\n",
    "if draw_diagnol:\n",
    "    draw = ImageDraw.Draw(image)\n",
    "    draw.line((0, 0, width, height), fill=diagnol_color, width=diagnol_line_width)\n",
    "    draw.line((width, 0, 0, height), fill=diagnol_color, width=diagnol_line_width)\n",
    "    del draw"
   ]
  },
  {
   "cell_type": "code",
   "execution_count": 274,
   "metadata": {},
   "outputs": [],
   "source": [
    "\n",
    "# Draw a circle outline on the image using the circle color and circle line width\n",
    "# The circle must touch the shortest side of the image\n",
    "if draw_circle:\n",
    "    draw = ImageDraw.Draw(image)\n",
    "    if width < height:\n",
    "        draw.ellipse((0, 0, width, height), outline=circle_color, width=circle_line_width)\n",
    "    else:\n",
    "        draw.ellipse((0, 0, height, width), outline=circle_color, width=circle_line_width)\n",
    "    del draw"
   ]
  },
  {
   "cell_type": "code",
   "execution_count": 275,
   "metadata": {},
   "outputs": [
    {
     "name": "stderr",
     "output_type": "stream",
     "text": [
      "C:\\Users\\azcoi\\AppData\\Local\\Temp\\ipykernel_23348\\4139967493.py:7: DeprecationWarning: textsize is deprecated and will be removed in Pillow 10 (2023-07-01). Use textbbox or textlength instead.\n",
      "  text_width, text_height = draw.textsize(text, font=font)\n"
     ]
    }
   ],
   "source": [
    "# Draw text near the top and center of the image\n",
    "# The text must fit within the image\n",
    "# Include the width and height of the image and the grid size in the text\n",
    "if draw_text:\n",
    "    draw = ImageDraw.Draw(image)\n",
    "    font = ImageFont.truetype(font_path, font_size)\n",
    "    text_width, text_height = draw.textsize(text, font=font)\n",
    "    text_x = (width - text_width) / 2\n",
    "    text_y = (height - text_height) / 2\n",
    "    draw.text((text_x, text_y), text, font=font, fill=font_color)\n",
    "    del draw"
   ]
  },
  {
   "cell_type": "code",
   "execution_count": 276,
   "metadata": {},
   "outputs": [],
   "source": [
    "# Draw a border on the image using the border color and border line width\n",
    "# Keep the border on the image\n",
    "if draw_border:\n",
    "    draw = ImageDraw.Draw(image)\n",
    "    draw.rectangle((0, 0, width-1, height-1), outline=border_color, width=border_line_width)\n",
    "    del draw"
   ]
  },
  {
   "cell_type": "code",
   "execution_count": 277,
   "metadata": {},
   "outputs": [
    {
     "name": "stdout",
     "output_type": "stream",
     "text": [
      "Saving grid-100-100-Hello World.png\n"
     ]
    }
   ],
   "source": [
    "\n",
    "filename = \"grid-{}-{}-{}.png\".format(width, height, text)\n",
    "print(\"Saving {}\".format(filename))\n",
    "image.save(filename)"
   ]
  }
 ],
 "metadata": {
  "kernelspec": {
   "display_name": "Python 3.9.13 ('venv': venv)",
   "language": "python",
   "name": "python3"
  },
  "language_info": {
   "codemirror_mode": {
    "name": "ipython",
    "version": 3
   },
   "file_extension": ".py",
   "mimetype": "text/x-python",
   "name": "python",
   "nbconvert_exporter": "python",
   "pygments_lexer": "ipython3",
   "version": "3.9.13"
  },
  "orig_nbformat": 4,
  "vscode": {
   "interpreter": {
    "hash": "cc858c90f65c42b12b7f502f768aba9ad9ce4a7845a6ecc7d796ed3be66f9b8c"
   }
  }
 },
 "nbformat": 4,
 "nbformat_minor": 2
}
