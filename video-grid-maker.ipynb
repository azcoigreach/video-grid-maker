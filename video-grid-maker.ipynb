{
 "cells": [
  {
   "cell_type": "markdown",
   "metadata": {},
   "source": [
    "Proceedurally create video test patterns for LED boards using Pillow"
   ]
  },
  {
   "cell_type": "code",
   "execution_count": null,
   "metadata": {},
   "outputs": [],
   "source": [
    "from PIL import Image, ImageDraw, ImageFont\n",
    "import math"
   ]
  },
  {
   "cell_type": "code",
   "execution_count": null,
   "metadata": {},
   "outputs": [],
   "source": [
    "# Environment variables\n",
    "width = 3840\n",
    "height = 1080\n",
    "background_color = (0, 0, 0, 96) # RGBA\n",
    "border_color = (0, 255, 0, 255)\n",
    "border_line_width = 2\n",
    "grid_color = (255, 255, 255, 127)\n",
    "grid_width = 64\n",
    "grid_height = 64\n",
    "grid_line_width = 1\n",
    "diagnol_color = (255, 72, 26, 255)\n",
    "diagnol_line_width = 2\n",
    "circle_color = (255, 255, 26, 255)\n",
    "circle_line_width = 2\n",
    "font_size_top = 72\n",
    "font_size_bottom = 48\n",
    "font_color = (255, 255, 255, 255)\n",
    "font_path = './fonts/Roboto-Regular.ttf'\n",
    "text_top = 'Video Grid Maker v0.1'\n",
    "text_padding_top = 65\n",
    "text_padding_bottom = 65\n",
    "logo_filename = './images/SeekPng.com_placeholder-png_3500407.png'\n",
    "logo_width = 800\n",
    "logo_height = 150\n",
    "logo_top = 615\n",
    "smpte_color_bar_height = 150\n",
    "smpte_color_bar_width = 1000\n",
    "smpte_color_bar_top = 450\n",
    "draw_grid = True\n",
    "draw_border = True\n",
    "draw_circle = True\n",
    "draw_text_top = True\n",
    "draw_text_bottom = True\n",
    "draw_diagnol = True\n",
    "draw_smpte_color_bar = True\n",
    "draw_logo = False\n",
    "\n",
    "# Initiate image\n",
    "image = Image.new('RGBA', size=(width, height), color=background_color)"
   ]
  },
  {
   "cell_type": "code",
   "execution_count": null,
   "metadata": {},
   "outputs": [],
   "source": [
    "# Draw grid on the image using the grid color and grid line width \n",
    "# Do not draw over the border\n",
    "if draw_grid:\n",
    "    draw = ImageDraw.Draw(image)\n",
    "    for x in range(0, width, grid_width):\n",
    "        draw.line((x, 0, x, height), fill=grid_color, width=grid_line_width)\n",
    "    for y in range(0, height, grid_height):\n",
    "        draw.line((0, y, width, y), fill=grid_color, width=grid_line_width)\n",
    "    del draw"
   ]
  },
  {
   "cell_type": "code",
   "execution_count": null,
   "metadata": {},
   "outputs": [],
   "source": [
    "\n",
    "# Draw a diagnol on the image using the diagnol color and diagnol line width\n",
    "if draw_diagnol:\n",
    "    draw = ImageDraw.Draw(image)\n",
    "    draw.line((0, 0, width, height), fill=diagnol_color, width=diagnol_line_width)\n",
    "    draw.line((width, 0, 0, height), fill=diagnol_color, width=diagnol_line_width)\n",
    "    del draw"
   ]
  },
  {
   "cell_type": "code",
   "execution_count": null,
   "metadata": {},
   "outputs": [],
   "source": [
    "\n",
    "# Draw a perfect circle in the absolute center of the image that touches the shortest side of the image\n",
    "if draw_circle:\n",
    "    draw = ImageDraw.Draw(image)\n",
    "    if width < height:\n",
    "        radius = math.floor(width / 2) - border_line_width\n",
    "    else:\n",
    "        radius = math.floor(height / 2) - border_line_width\n",
    "    draw.ellipse((width / 2 - radius, height / 2 - radius, width / 2 + radius, height / 2 + radius), outline=circle_color, width=circle_line_width)\n",
    "    del draw"
   ]
  },
  {
   "cell_type": "code",
   "execution_count": null,
   "metadata": {},
   "outputs": [],
   "source": [
    "# draw 7 blocks of color for each of the main smpte color bar values. \n",
    "# arrange the block in a 1x7 grid.  use smpte_color_bar_width, smpte_color_bar_height and smpte_color_bar_top to determine the size and location of grid. \n",
    "# reference https://en.wikipedia.org/wiki/SMPTE_color_bars#Digital_video\n",
    "if draw_smpte_color_bar:\n",
    "    draw = ImageDraw.Draw(image)\n",
    "    smpte_color_bar_colors = [(180, 180, 180, 255), (180, 180, 16, 255), (16, 180, 180, 255), (16, 180, 16, 255), (180, 16, 180, 255), (180, 16, 16, 255), (16, 16, 180, 255)]\n",
    "    smpte_color_bar_left = (width - smpte_color_bar_width) / 2\n",
    "    smpte_color_block_width = smpte_color_bar_width / 7\n",
    "    smpte_color_block_height = smpte_color_bar_height\n",
    "    for i in range(0, 7):\n",
    "        draw.rectangle((smpte_color_bar_left + i * smpte_color_block_width, smpte_color_bar_top, smpte_color_bar_left + (i + 1) * smpte_color_block_width, smpte_color_bar_top + smpte_color_block_height), fill=smpte_color_bar_colors[i])\n",
    "    del draw\n",
    "    "
   ]
  },
  {
   "cell_type": "code",
   "execution_count": null,
   "metadata": {},
   "outputs": [],
   "source": [
    "# draw RGBA logo in the center of the image\n",
    "if draw_logo:\n",
    "    logo = Image.open(logo_filename)\n",
    "    # make logo transparent\n",
    "    logo = logo.convert('RGBA')\n",
    "    logo = logo.resize((logo_width, logo_height), Image.ANTIALIAS)\n",
    "    # paste logo on the image with logo_top\n",
    "    image.paste(logo, (int(width / 2 - logo_width / 2), logo_top), logo)\n",
    "    del logo    "
   ]
  },
  {
   "cell_type": "code",
   "execution_count": null,
   "metadata": {},
   "outputs": [],
   "source": [
    "# Draw the text variable near the top of the image using font, font_size, font_color, text_padding\n",
    "if draw_text_top:\n",
    "    draw = ImageDraw.Draw(image)\n",
    "    font = ImageFont.truetype(font_path, font_size_top)\n",
    "    text_width, text_height = font.getsize(text_top)\n",
    "    draw.text(((width - text_width) / 2, text_padding_top), text_top, font=font, fill=font_color)\n",
    "    del draw"
   ]
  },
  {
   "cell_type": "code",
   "execution_count": null,
   "metadata": {},
   "outputs": [],
   "source": [
    "# draw a line of text at the bottom of the image using font, font_size, font_color, text_padding_bottom\n",
    "if draw_text_bottom:\n",
    "    draw = ImageDraw.Draw(image)\n",
    "    font = ImageFont.truetype(font_path, font_size_bottom)\n",
    "    # draw image size and aspect ratio and grid size as text_bottom\n",
    "    if draw_grid:\n",
    "        text_bottom = 'size: %d x %d, ar: %.2f, grid: %d x %d' % (width, height, width / height, grid_width, grid_height)\n",
    "    else:\n",
    "        text_bottom = 'size: %d x %d, ar: %.2f' % (width, height, width / height)\n",
    "    text_width, text_height = font.getsize(text_bottom)\n",
    "    # center the text at the bottom of the image using text_padding_bottom from the bottom of the text\n",
    "    draw.text(((width - text_width) / 2, height - text_padding_bottom - text_height), text_bottom, font=font, fill=font_color)\n",
    "        \n",
    "    del draw\n"
   ]
  },
  {
   "cell_type": "code",
   "execution_count": null,
   "metadata": {},
   "outputs": [],
   "source": [
    "# Draw a border on the image using the border color and border line width\n",
    "# Keep the border on the image\n",
    "if draw_border:\n",
    "    draw = ImageDraw.Draw(image)\n",
    "    draw.rectangle((0, 0, width-1, height-1), outline=border_color, width=border_line_width)\n",
    "    del draw"
   ]
  },
  {
   "cell_type": "code",
   "execution_count": null,
   "metadata": {},
   "outputs": [],
   "source": [
    "\n",
    "# Save the image\n",
    "text_top = text_top.replace(' ', '-')\n",
    "filename = \"grid-{}-{}-{}.png\".format(width, height, text_top)\n",
    "print(\"Saving {}\".format(filename))\n",
    "image.save(filename)"
   ]
  },
  {
   "cell_type": "code",
   "execution_count": null,
   "metadata": {},
   "outputs": [],
   "source": [
    "value = (255,255,255,255)\n",
    "print(type(value))"
   ]
  }
 ],
 "metadata": {
  "kernelspec": {
   "display_name": "Python 3.9.13 ('venv': venv)",
   "language": "python",
   "name": "python3"
  },
  "language_info": {
   "codemirror_mode": {
    "name": "ipython",
    "version": 3
   },
   "file_extension": ".py",
   "mimetype": "text/x-python",
   "name": "python",
   "nbconvert_exporter": "python",
   "pygments_lexer": "ipython3",
   "version": "3.9.13"
  },
  "orig_nbformat": 4,
  "vscode": {
   "interpreter": {
    "hash": "cc858c90f65c42b12b7f502f768aba9ad9ce4a7845a6ecc7d796ed3be66f9b8c"
   }
  }
 },
 "nbformat": 4,
 "nbformat_minor": 2
}
